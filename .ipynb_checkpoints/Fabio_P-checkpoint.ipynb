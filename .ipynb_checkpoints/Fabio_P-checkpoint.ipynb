{
 "cells": [
  {
   "cell_type": "code",
   "execution_count": 20,
   "metadata": {},
   "outputs": [],
   "source": [
    "import pandas as pd\n",
    "import glob\n",
    "import numpy as np"
   ]
  },
  {
   "cell_type": "code",
   "execution_count": 21,
   "metadata": {},
   "outputs": [],
   "source": [
    "# Get all of the names of our csvs (os)\n",
    "\n",
    "# Iterate through .csv files \n",
    "\n",
    "# read each csv into pandas df\n",
    "\n",
    "# add county column\n",
    "\n",
    "# either store df or concatenate to some output df\n"
   ]
  },
  {
   "cell_type": "code",
   "execution_count": 22,
   "metadata": {},
   "outputs": [],
   "source": [
    "# W/ all data add oil price , unemployment cols"
   ]
  },
  {
   "cell_type": "code",
   "execution_count": 23,
   "metadata": {},
   "outputs": [
    {
     "data": {
      "text/plain": [
       "[]"
      ]
     },
     "execution_count": 23,
     "metadata": {},
     "output_type": "execute_result"
    }
   ],
   "source": [
    "csv= glob.glob(\"*_County.csv\")\n",
    "csv"
   ]
  },
  {
   "cell_type": "code",
   "execution_count": 35,
   "metadata": {},
   "outputs": [
    {
     "ename": "IndexError",
     "evalue": "list index out of range",
     "output_type": "error",
     "traceback": [
      "\u001b[0;31m---------------------------------------------------------------------------\u001b[0m",
      "\u001b[0;31mIndexError\u001b[0m                                Traceback (most recent call last)",
      "\u001b[0;32m<ipython-input-35-c86f0750f0ab>\u001b[0m in \u001b[0;36m<module>\u001b[0;34m()\u001b[0m\n\u001b[0;32m----> 1\u001b[0;31m \u001b[0mone\u001b[0m\u001b[0;34m=\u001b[0m\u001b[0mcsv\u001b[0m\u001b[0;34m[\u001b[0m\u001b[0;36m0\u001b[0m\u001b[0;34m]\u001b[0m\u001b[0;34m[\u001b[0m\u001b[0;34m:\u001b[0m\u001b[0;34m-\u001b[0m\u001b[0;36m11\u001b[0m\u001b[0;34m]\u001b[0m\u001b[0;34m\u001b[0m\u001b[0;34m\u001b[0m\u001b[0m\n\u001b[0m\u001b[1;32m      2\u001b[0m \u001b[0mone\u001b[0m\u001b[0;34m\u001b[0m\u001b[0;34m\u001b[0m\u001b[0m\n",
      "\u001b[0;31mIndexError\u001b[0m: list index out of range"
     ]
    }
   ],
   "source": [
    "one=csv[0][:-11]\n",
    "one"
   ]
  },
  {
   "cell_type": "code",
   "execution_count": 36,
   "metadata": {},
   "outputs": [
    {
     "ename": "IndexError",
     "evalue": "list index out of range",
     "output_type": "error",
     "traceback": [
      "\u001b[0;31m---------------------------------------------------------------------------\u001b[0m",
      "\u001b[0;31mIndexError\u001b[0m                                Traceback (most recent call last)",
      "\u001b[0;32m<ipython-input-36-ce5dc89433d4>\u001b[0m in \u001b[0;36m<module>\u001b[0;34m()\u001b[0m\n\u001b[0;32m----> 1\u001b[0;31m \u001b[0mread1\u001b[0m\u001b[0;34m=\u001b[0m \u001b[0mpd\u001b[0m\u001b[0;34m.\u001b[0m\u001b[0mread_csv\u001b[0m\u001b[0;34m(\u001b[0m\u001b[0mcsv\u001b[0m\u001b[0;34m[\u001b[0m\u001b[0;36m0\u001b[0m\u001b[0;34m]\u001b[0m\u001b[0;34m)\u001b[0m\u001b[0;34m\u001b[0m\u001b[0;34m\u001b[0m\u001b[0m\n\u001b[0m\u001b[1;32m      2\u001b[0m \u001b[0mread1\u001b[0m\u001b[0;34m[\u001b[0m\u001b[0;34m\"County\"\u001b[0m\u001b[0;34m]\u001b[0m\u001b[0;34m=\u001b[0m\u001b[0mcsv\u001b[0m\u001b[0;34m[\u001b[0m\u001b[0;36m0\u001b[0m\u001b[0;34m]\u001b[0m\u001b[0;34m[\u001b[0m\u001b[0;34m:\u001b[0m\u001b[0;34m-\u001b[0m\u001b[0;36m11\u001b[0m\u001b[0;34m]\u001b[0m\u001b[0;34m\u001b[0m\u001b[0;34m\u001b[0m\u001b[0m\n\u001b[1;32m      3\u001b[0m \u001b[0mread2\u001b[0m\u001b[0;34m=\u001b[0m \u001b[0mpd\u001b[0m\u001b[0;34m.\u001b[0m\u001b[0mread_csv\u001b[0m\u001b[0;34m(\u001b[0m\u001b[0mcsv\u001b[0m\u001b[0;34m[\u001b[0m\u001b[0;36m1\u001b[0m\u001b[0;34m]\u001b[0m\u001b[0;34m)\u001b[0m\u001b[0;34m\u001b[0m\u001b[0;34m\u001b[0m\u001b[0m\n\u001b[1;32m      4\u001b[0m \u001b[0mread2\u001b[0m\u001b[0;34m[\u001b[0m\u001b[0;34m\"County\"\u001b[0m\u001b[0;34m]\u001b[0m\u001b[0;34m=\u001b[0m\u001b[0mcsv\u001b[0m\u001b[0;34m[\u001b[0m\u001b[0;36m1\u001b[0m\u001b[0;34m]\u001b[0m\u001b[0;34m[\u001b[0m\u001b[0;34m:\u001b[0m\u001b[0;34m-\u001b[0m\u001b[0;36m11\u001b[0m\u001b[0;34m]\u001b[0m\u001b[0;34m\u001b[0m\u001b[0;34m\u001b[0m\u001b[0m\n\u001b[1;32m      5\u001b[0m \u001b[0mread3\u001b[0m\u001b[0;34m=\u001b[0m \u001b[0mpd\u001b[0m\u001b[0;34m.\u001b[0m\u001b[0mconcat\u001b[0m\u001b[0;34m(\u001b[0m\u001b[0;34m[\u001b[0m\u001b[0mread1\u001b[0m\u001b[0;34m,\u001b[0m\u001b[0mread2\u001b[0m\u001b[0;34m]\u001b[0m\u001b[0;34m)\u001b[0m\u001b[0;34m\u001b[0m\u001b[0;34m\u001b[0m\u001b[0m\n",
      "\u001b[0;31mIndexError\u001b[0m: list index out of range"
     ]
    }
   ],
   "source": [
    "read1= pd.read_csv(csv[0])\n",
    "read1[\"County\"]=csv[0][:-11]\n",
    "read2= pd.read_csv(csv[1])\n",
    "read2[\"County\"]=csv[1][:-11]\n",
    "read3= pd.concat([read1,read2])\n",
    "read3.head()"
   ]
  },
  {
   "cell_type": "code",
   "execution_count": 37,
   "metadata": {},
   "outputs": [
    {
     "ename": "NameError",
     "evalue": "name 'read1' is not defined",
     "output_type": "error",
     "traceback": [
      "\u001b[0;31m---------------------------------------------------------------------------\u001b[0m",
      "\u001b[0;31mNameError\u001b[0m                                 Traceback (most recent call last)",
      "\u001b[0;32m<ipython-input-37-0b1772146be9>\u001b[0m in \u001b[0;36m<module>\u001b[0;34m()\u001b[0m\n\u001b[0;32m----> 1\u001b[0;31m \u001b[0mcomplete_df\u001b[0m \u001b[0;34m=\u001b[0m \u001b[0mread1\u001b[0m\u001b[0;34m\u001b[0m\u001b[0;34m\u001b[0m\u001b[0m\n\u001b[0m\u001b[1;32m      2\u001b[0m \u001b[0;32mfor\u001b[0m \u001b[0mcounty\u001b[0m \u001b[0;32min\u001b[0m \u001b[0mcsv\u001b[0m\u001b[0;34m[\u001b[0m\u001b[0;36m0\u001b[0m\u001b[0;34m:\u001b[0m\u001b[0;34m]\u001b[0m\u001b[0;34m:\u001b[0m\u001b[0;34m\u001b[0m\u001b[0;34m\u001b[0m\u001b[0m\n\u001b[1;32m      3\u001b[0m     \u001b[0mnew_df\u001b[0m\u001b[0;34m=\u001b[0m \u001b[0mpd\u001b[0m\u001b[0;34m.\u001b[0m\u001b[0mread_csv\u001b[0m\u001b[0;34m(\u001b[0m\u001b[0mcounty\u001b[0m\u001b[0;34m)\u001b[0m\u001b[0;34m\u001b[0m\u001b[0;34m\u001b[0m\u001b[0m\n\u001b[1;32m      4\u001b[0m     \u001b[0mnew_df\u001b[0m\u001b[0;34m[\u001b[0m\u001b[0;34m\"County\"\u001b[0m\u001b[0;34m]\u001b[0m\u001b[0;34m=\u001b[0m\u001b[0mcounty\u001b[0m\u001b[0;34m[\u001b[0m\u001b[0;34m:\u001b[0m\u001b[0;34m-\u001b[0m\u001b[0;36m11\u001b[0m\u001b[0;34m]\u001b[0m\u001b[0;34m\u001b[0m\u001b[0;34m\u001b[0m\u001b[0m\n\u001b[1;32m      5\u001b[0m \u001b[0;34m\u001b[0m\u001b[0m\n",
      "\u001b[0;31mNameError\u001b[0m: name 'read1' is not defined"
     ]
    }
   ],
   "source": [
    "complete_df = read1\n",
    "for county in csv[0:]:\n",
    "    new_df= pd.read_csv(county)\n",
    "    new_df[\"County\"]=county[:-11]\n",
    "    \n",
    "    complete_df = pd.concat([complete_df, new_df])"
   ]
  },
  {
   "cell_type": "code",
   "execution_count": 27,
   "metadata": {},
   "outputs": [
    {
     "ename": "NameError",
     "evalue": "name 'complete_df' is not defined",
     "output_type": "error",
     "traceback": [
      "\u001b[0;31m---------------------------------------------------------------------------\u001b[0m",
      "\u001b[0;31mNameError\u001b[0m                                 Traceback (most recent call last)",
      "\u001b[0;32m<ipython-input-27-76daf0c72251>\u001b[0m in \u001b[0;36m<module>\u001b[0;34m()\u001b[0m\n\u001b[0;32m----> 1\u001b[0;31m \u001b[0mcomplete_df\u001b[0m\u001b[0;34m.\u001b[0m\u001b[0mshape\u001b[0m\u001b[0;34m\u001b[0m\u001b[0;34m\u001b[0m\u001b[0m\n\u001b[0m",
      "\u001b[0;31mNameError\u001b[0m: name 'complete_df' is not defined"
     ]
    }
   ],
   "source": [
    "complete_df.shape"
   ]
  },
  {
   "cell_type": "code",
   "execution_count": 28,
   "metadata": {},
   "outputs": [
    {
     "ename": "NameError",
     "evalue": "name 'complete_df' is not defined",
     "output_type": "error",
     "traceback": [
      "\u001b[0;31m---------------------------------------------------------------------------\u001b[0m",
      "\u001b[0;31mNameError\u001b[0m                                 Traceback (most recent call last)",
      "\u001b[0;32m<ipython-input-28-a8ed59ad8037>\u001b[0m in \u001b[0;36m<module>\u001b[0;34m()\u001b[0m\n\u001b[0;32m----> 1\u001b[0;31m \u001b[0mlen\u001b[0m\u001b[0;34m(\u001b[0m\u001b[0mcomplete_df\u001b[0m\u001b[0;34m.\u001b[0m\u001b[0mCounty\u001b[0m\u001b[0;34m.\u001b[0m\u001b[0munique\u001b[0m\u001b[0;34m(\u001b[0m\u001b[0;34m)\u001b[0m\u001b[0;34m)\u001b[0m\u001b[0;34m\u001b[0m\u001b[0;34m\u001b[0m\u001b[0m\n\u001b[0m",
      "\u001b[0;31mNameError\u001b[0m: name 'complete_df' is not defined"
     ]
    }
   ],
   "source": [
    "len(complete_df.County.unique())"
   ]
  },
  {
   "cell_type": "code",
   "execution_count": 29,
   "metadata": {},
   "outputs": [
    {
     "ename": "NameError",
     "evalue": "name 'complete_df' is not defined",
     "output_type": "error",
     "traceback": [
      "\u001b[0;31m---------------------------------------------------------------------------\u001b[0m",
      "\u001b[0;31mNameError\u001b[0m                                 Traceback (most recent call last)",
      "\u001b[0;32m<ipython-input-29-f8fabadf51ce>\u001b[0m in \u001b[0;36m<module>\u001b[0;34m()\u001b[0m\n\u001b[0;32m----> 1\u001b[0;31m \u001b[0mcomplete_df\u001b[0m\u001b[0;34m.\u001b[0m\u001b[0mhead\u001b[0m\u001b[0;34m(\u001b[0m\u001b[0;34m)\u001b[0m\u001b[0;34m\u001b[0m\u001b[0;34m\u001b[0m\u001b[0m\n\u001b[0m",
      "\u001b[0;31mNameError\u001b[0m: name 'complete_df' is not defined"
     ]
    }
   ],
   "source": [
    "complete_df.head()"
   ]
  },
  {
   "cell_type": "code",
   "execution_count": 30,
   "metadata": {},
   "outputs": [
    {
     "ename": "NameError",
     "evalue": "name 'complete_df' is not defined",
     "output_type": "error",
     "traceback": [
      "\u001b[0;31m---------------------------------------------------------------------------\u001b[0m",
      "\u001b[0;31mNameError\u001b[0m                                 Traceback (most recent call last)",
      "\u001b[0;32m<ipython-input-30-0e08b7c72e59>\u001b[0m in \u001b[0;36m<module>\u001b[0;34m()\u001b[0m\n\u001b[0;32m----> 1\u001b[0;31m \u001b[0mcomplete_df\u001b[0m\u001b[0;34m.\u001b[0m\u001b[0mreset_index\u001b[0m\u001b[0;34m(\u001b[0m\u001b[0minplace\u001b[0m\u001b[0;34m=\u001b[0m\u001b[0;32mTrue\u001b[0m\u001b[0;34m,\u001b[0m \u001b[0mdrop\u001b[0m\u001b[0;34m=\u001b[0m \u001b[0;32mTrue\u001b[0m\u001b[0;34m)\u001b[0m\u001b[0;34m\u001b[0m\u001b[0;34m\u001b[0m\u001b[0m\n\u001b[0m\u001b[1;32m      2\u001b[0m \u001b[0mcomplete_df\u001b[0m\u001b[0;34m.\u001b[0m\u001b[0mhead\u001b[0m\u001b[0;34m(\u001b[0m\u001b[0;34m)\u001b[0m\u001b[0;34m\u001b[0m\u001b[0;34m\u001b[0m\u001b[0m\n",
      "\u001b[0;31mNameError\u001b[0m: name 'complete_df' is not defined"
     ]
    }
   ],
   "source": [
    "complete_df.reset_index(inplace=True, drop= True)\n",
    "complete_df.head()"
   ]
  },
  {
   "cell_type": "code",
   "execution_count": 31,
   "metadata": {},
   "outputs": [
    {
     "ename": "NameError",
     "evalue": "name 'complete_df' is not defined",
     "output_type": "error",
     "traceback": [
      "\u001b[0;31m---------------------------------------------------------------------------\u001b[0m",
      "\u001b[0;31mNameError\u001b[0m                                 Traceback (most recent call last)",
      "\u001b[0;32m<ipython-input-31-0fdd1f893522>\u001b[0m in \u001b[0;36m<module>\u001b[0;34m()\u001b[0m\n\u001b[0;32m----> 1\u001b[0;31m \u001b[0mcomplete_df\u001b[0m\u001b[0;34m.\u001b[0m\u001b[0mto_csv\u001b[0m\u001b[0;34m(\u001b[0m\u001b[0;34m\"Complete_house_pricing_data.csv\"\u001b[0m\u001b[0;34m)\u001b[0m\u001b[0;34m\u001b[0m\u001b[0;34m\u001b[0m\u001b[0m\n\u001b[0m",
      "\u001b[0;31mNameError\u001b[0m: name 'complete_df' is not defined"
     ]
    }
   ],
   "source": [
    "complete_df.to_csv(\"Complete_house_pricing_data.csv\")"
   ]
  },
  {
   "cell_type": "code",
   "execution_count": 32,
   "metadata": {},
   "outputs": [
    {
     "ename": "FileNotFoundError",
     "evalue": "[Errno 2] No such file or directory: 'TX-Unemployment data_BLS.xlsx'",
     "output_type": "error",
     "traceback": [
      "\u001b[0;31m---------------------------------------------------------------------------\u001b[0m",
      "\u001b[0;31mFileNotFoundError\u001b[0m                         Traceback (most recent call last)",
      "\u001b[0;32m<ipython-input-32-fad2cac36e33>\u001b[0m in \u001b[0;36m<module>\u001b[0;34m()\u001b[0m\n\u001b[0;32m----> 1\u001b[0;31m \u001b[0munemployment\u001b[0m\u001b[0;34m=\u001b[0m \u001b[0mpd\u001b[0m\u001b[0;34m.\u001b[0m\u001b[0mread_excel\u001b[0m\u001b[0;34m(\u001b[0m\u001b[0;34m\"TX-Unemployment data_BLS.xlsx\"\u001b[0m\u001b[0;34m,\u001b[0m\u001b[0mskiprows\u001b[0m\u001b[0;34m=\u001b[0m\u001b[0;36m10\u001b[0m\u001b[0;34m)\u001b[0m\u001b[0;34m\u001b[0m\u001b[0;34m\u001b[0m\u001b[0m\n\u001b[0m\u001b[1;32m      2\u001b[0m \u001b[0munemployment\u001b[0m\u001b[0;34m.\u001b[0m\u001b[0mhead\u001b[0m\u001b[0;34m(\u001b[0m\u001b[0;34m)\u001b[0m\u001b[0;34m\u001b[0m\u001b[0;34m\u001b[0m\u001b[0m\n",
      "\u001b[0;32m/anaconda3/lib/python3.7/site-packages/pandas/util/_decorators.py\u001b[0m in \u001b[0;36mwrapper\u001b[0;34m(*args, **kwargs)\u001b[0m\n\u001b[1;32m    176\u001b[0m                 \u001b[0;32melse\u001b[0m\u001b[0;34m:\u001b[0m\u001b[0;34m\u001b[0m\u001b[0;34m\u001b[0m\u001b[0m\n\u001b[1;32m    177\u001b[0m                     \u001b[0mkwargs\u001b[0m\u001b[0;34m[\u001b[0m\u001b[0mnew_arg_name\u001b[0m\u001b[0;34m]\u001b[0m \u001b[0;34m=\u001b[0m \u001b[0mnew_arg_value\u001b[0m\u001b[0;34m\u001b[0m\u001b[0;34m\u001b[0m\u001b[0m\n\u001b[0;32m--> 178\u001b[0;31m             \u001b[0;32mreturn\u001b[0m \u001b[0mfunc\u001b[0m\u001b[0;34m(\u001b[0m\u001b[0;34m*\u001b[0m\u001b[0margs\u001b[0m\u001b[0;34m,\u001b[0m \u001b[0;34m**\u001b[0m\u001b[0mkwargs\u001b[0m\u001b[0;34m)\u001b[0m\u001b[0;34m\u001b[0m\u001b[0;34m\u001b[0m\u001b[0m\n\u001b[0m\u001b[1;32m    179\u001b[0m         \u001b[0;32mreturn\u001b[0m \u001b[0mwrapper\u001b[0m\u001b[0;34m\u001b[0m\u001b[0;34m\u001b[0m\u001b[0m\n\u001b[1;32m    180\u001b[0m     \u001b[0;32mreturn\u001b[0m \u001b[0m_deprecate_kwarg\u001b[0m\u001b[0;34m\u001b[0m\u001b[0;34m\u001b[0m\u001b[0m\n",
      "\u001b[0;32m/anaconda3/lib/python3.7/site-packages/pandas/util/_decorators.py\u001b[0m in \u001b[0;36mwrapper\u001b[0;34m(*args, **kwargs)\u001b[0m\n\u001b[1;32m    176\u001b[0m                 \u001b[0;32melse\u001b[0m\u001b[0;34m:\u001b[0m\u001b[0;34m\u001b[0m\u001b[0;34m\u001b[0m\u001b[0m\n\u001b[1;32m    177\u001b[0m                     \u001b[0mkwargs\u001b[0m\u001b[0;34m[\u001b[0m\u001b[0mnew_arg_name\u001b[0m\u001b[0;34m]\u001b[0m \u001b[0;34m=\u001b[0m \u001b[0mnew_arg_value\u001b[0m\u001b[0;34m\u001b[0m\u001b[0;34m\u001b[0m\u001b[0m\n\u001b[0;32m--> 178\u001b[0;31m             \u001b[0;32mreturn\u001b[0m \u001b[0mfunc\u001b[0m\u001b[0;34m(\u001b[0m\u001b[0;34m*\u001b[0m\u001b[0margs\u001b[0m\u001b[0;34m,\u001b[0m \u001b[0;34m**\u001b[0m\u001b[0mkwargs\u001b[0m\u001b[0;34m)\u001b[0m\u001b[0;34m\u001b[0m\u001b[0;34m\u001b[0m\u001b[0m\n\u001b[0m\u001b[1;32m    179\u001b[0m         \u001b[0;32mreturn\u001b[0m \u001b[0mwrapper\u001b[0m\u001b[0;34m\u001b[0m\u001b[0;34m\u001b[0m\u001b[0m\n\u001b[1;32m    180\u001b[0m     \u001b[0;32mreturn\u001b[0m \u001b[0m_deprecate_kwarg\u001b[0m\u001b[0;34m\u001b[0m\u001b[0;34m\u001b[0m\u001b[0m\n",
      "\u001b[0;32m/anaconda3/lib/python3.7/site-packages/pandas/io/excel.py\u001b[0m in \u001b[0;36mread_excel\u001b[0;34m(io, sheet_name, header, names, index_col, usecols, squeeze, dtype, engine, converters, true_values, false_values, skiprows, nrows, na_values, parse_dates, date_parser, thousands, comment, skipfooter, convert_float, **kwds)\u001b[0m\n\u001b[1;32m    305\u001b[0m \u001b[0;34m\u001b[0m\u001b[0m\n\u001b[1;32m    306\u001b[0m     \u001b[0;32mif\u001b[0m \u001b[0;32mnot\u001b[0m \u001b[0misinstance\u001b[0m\u001b[0;34m(\u001b[0m\u001b[0mio\u001b[0m\u001b[0;34m,\u001b[0m \u001b[0mExcelFile\u001b[0m\u001b[0;34m)\u001b[0m\u001b[0;34m:\u001b[0m\u001b[0;34m\u001b[0m\u001b[0;34m\u001b[0m\u001b[0m\n\u001b[0;32m--> 307\u001b[0;31m         \u001b[0mio\u001b[0m \u001b[0;34m=\u001b[0m \u001b[0mExcelFile\u001b[0m\u001b[0;34m(\u001b[0m\u001b[0mio\u001b[0m\u001b[0;34m,\u001b[0m \u001b[0mengine\u001b[0m\u001b[0;34m=\u001b[0m\u001b[0mengine\u001b[0m\u001b[0;34m)\u001b[0m\u001b[0;34m\u001b[0m\u001b[0;34m\u001b[0m\u001b[0m\n\u001b[0m\u001b[1;32m    308\u001b[0m \u001b[0;34m\u001b[0m\u001b[0m\n\u001b[1;32m    309\u001b[0m     return io.parse(\n",
      "\u001b[0;32m/anaconda3/lib/python3.7/site-packages/pandas/io/excel.py\u001b[0m in \u001b[0;36m__init__\u001b[0;34m(self, io, **kwds)\u001b[0m\n\u001b[1;32m    392\u001b[0m             \u001b[0mself\u001b[0m\u001b[0;34m.\u001b[0m\u001b[0mbook\u001b[0m \u001b[0;34m=\u001b[0m \u001b[0mxlrd\u001b[0m\u001b[0;34m.\u001b[0m\u001b[0mopen_workbook\u001b[0m\u001b[0;34m(\u001b[0m\u001b[0mfile_contents\u001b[0m\u001b[0;34m=\u001b[0m\u001b[0mdata\u001b[0m\u001b[0;34m)\u001b[0m\u001b[0;34m\u001b[0m\u001b[0;34m\u001b[0m\u001b[0m\n\u001b[1;32m    393\u001b[0m         \u001b[0;32melif\u001b[0m \u001b[0misinstance\u001b[0m\u001b[0;34m(\u001b[0m\u001b[0mself\u001b[0m\u001b[0;34m.\u001b[0m\u001b[0m_io\u001b[0m\u001b[0;34m,\u001b[0m \u001b[0mcompat\u001b[0m\u001b[0;34m.\u001b[0m\u001b[0mstring_types\u001b[0m\u001b[0;34m)\u001b[0m\u001b[0;34m:\u001b[0m\u001b[0;34m\u001b[0m\u001b[0;34m\u001b[0m\u001b[0m\n\u001b[0;32m--> 394\u001b[0;31m             \u001b[0mself\u001b[0m\u001b[0;34m.\u001b[0m\u001b[0mbook\u001b[0m \u001b[0;34m=\u001b[0m \u001b[0mxlrd\u001b[0m\u001b[0;34m.\u001b[0m\u001b[0mopen_workbook\u001b[0m\u001b[0;34m(\u001b[0m\u001b[0mself\u001b[0m\u001b[0;34m.\u001b[0m\u001b[0m_io\u001b[0m\u001b[0;34m)\u001b[0m\u001b[0;34m\u001b[0m\u001b[0;34m\u001b[0m\u001b[0m\n\u001b[0m\u001b[1;32m    395\u001b[0m         \u001b[0;32melse\u001b[0m\u001b[0;34m:\u001b[0m\u001b[0;34m\u001b[0m\u001b[0;34m\u001b[0m\u001b[0m\n\u001b[1;32m    396\u001b[0m             raise ValueError('Must explicitly set engine if not passing in'\n",
      "\u001b[0;32m/anaconda3/lib/python3.7/site-packages/xlrd/__init__.py\u001b[0m in \u001b[0;36mopen_workbook\u001b[0;34m(filename, logfile, verbosity, use_mmap, file_contents, encoding_override, formatting_info, on_demand, ragged_rows)\u001b[0m\n\u001b[1;32m    114\u001b[0m         \u001b[0mpeek\u001b[0m \u001b[0;34m=\u001b[0m \u001b[0mfile_contents\u001b[0m\u001b[0;34m[\u001b[0m\u001b[0;34m:\u001b[0m\u001b[0mpeeksz\u001b[0m\u001b[0;34m]\u001b[0m\u001b[0;34m\u001b[0m\u001b[0;34m\u001b[0m\u001b[0m\n\u001b[1;32m    115\u001b[0m     \u001b[0;32melse\u001b[0m\u001b[0;34m:\u001b[0m\u001b[0;34m\u001b[0m\u001b[0;34m\u001b[0m\u001b[0m\n\u001b[0;32m--> 116\u001b[0;31m         \u001b[0;32mwith\u001b[0m \u001b[0mopen\u001b[0m\u001b[0;34m(\u001b[0m\u001b[0mfilename\u001b[0m\u001b[0;34m,\u001b[0m \u001b[0;34m\"rb\"\u001b[0m\u001b[0;34m)\u001b[0m \u001b[0;32mas\u001b[0m \u001b[0mf\u001b[0m\u001b[0;34m:\u001b[0m\u001b[0;34m\u001b[0m\u001b[0;34m\u001b[0m\u001b[0m\n\u001b[0m\u001b[1;32m    117\u001b[0m             \u001b[0mpeek\u001b[0m \u001b[0;34m=\u001b[0m \u001b[0mf\u001b[0m\u001b[0;34m.\u001b[0m\u001b[0mread\u001b[0m\u001b[0;34m(\u001b[0m\u001b[0mpeeksz\u001b[0m\u001b[0;34m)\u001b[0m\u001b[0;34m\u001b[0m\u001b[0;34m\u001b[0m\u001b[0m\n\u001b[1;32m    118\u001b[0m     \u001b[0;32mif\u001b[0m \u001b[0mpeek\u001b[0m \u001b[0;34m==\u001b[0m \u001b[0;34mb\"PK\\x03\\x04\"\u001b[0m\u001b[0;34m:\u001b[0m \u001b[0;31m# a ZIP file\u001b[0m\u001b[0;34m\u001b[0m\u001b[0;34m\u001b[0m\u001b[0m\n",
      "\u001b[0;31mFileNotFoundError\u001b[0m: [Errno 2] No such file or directory: 'TX-Unemployment data_BLS.xlsx'"
     ]
    }
   ],
   "source": [
    "unemployment= pd.read_excel(\"TX-Unemployment data_BLS.xlsx\",skiprows=10)\n",
    "unemployment.head()"
   ]
  },
  {
   "cell_type": "code",
   "execution_count": 33,
   "metadata": {},
   "outputs": [
    {
     "ename": "NameError",
     "evalue": "name 'unemployment' is not defined",
     "output_type": "error",
     "traceback": [
      "\u001b[0;31m---------------------------------------------------------------------------\u001b[0m",
      "\u001b[0;31mNameError\u001b[0m                                 Traceback (most recent call last)",
      "\u001b[0;32m<ipython-input-33-136288ef72c6>\u001b[0m in \u001b[0;36m<module>\u001b[0;34m()\u001b[0m\n\u001b[0;32m----> 1\u001b[0;31m \u001b[0munemployment\u001b[0m\u001b[0;34m.\u001b[0m\u001b[0mloc\u001b[0m\u001b[0;34m[\u001b[0m\u001b[0munemployment\u001b[0m\u001b[0;34m[\u001b[0m\u001b[0;34m'Year'\u001b[0m\u001b[0;34m]\u001b[0m\u001b[0;34m==\u001b[0m\u001b[0;36m2011\u001b[0m\u001b[0;34m,\u001b[0m\u001b[0;34m'Jan'\u001b[0m\u001b[0;34m]\u001b[0m\u001b[0;34m.\u001b[0m\u001b[0mvalues\u001b[0m\u001b[0;34m[\u001b[0m\u001b[0;36m0\u001b[0m\u001b[0;34m]\u001b[0m\u001b[0;34m\u001b[0m\u001b[0;34m\u001b[0m\u001b[0m\n\u001b[0m",
      "\u001b[0;31mNameError\u001b[0m: name 'unemployment' is not defined"
     ]
    }
   ],
   "source": [
    "unemployment.loc[unemployment['Year']==2011,'Jan'].values[0]"
   ]
  },
  {
   "cell_type": "code",
   "execution_count": 34,
   "metadata": {},
   "outputs": [
    {
     "ename": "NameError",
     "evalue": "name 'unemployment' is not defined",
     "output_type": "error",
     "traceback": [
      "\u001b[0;31m---------------------------------------------------------------------------\u001b[0m",
      "\u001b[0;31mNameError\u001b[0m                                 Traceback (most recent call last)",
      "\u001b[0;32m<ipython-input-34-7e52d1e9a714>\u001b[0m in \u001b[0;36m<module>\u001b[0;34m()\u001b[0m\n\u001b[0;32m----> 1\u001b[0;31m \u001b[0mun\u001b[0m\u001b[0;34m=\u001b[0m \u001b[0munemployment\u001b[0m\u001b[0;34m.\u001b[0m\u001b[0mset_index\u001b[0m\u001b[0;34m(\u001b[0m\u001b[0;34m\"Year\"\u001b[0m\u001b[0;34m)\u001b[0m\u001b[0;34m\u001b[0m\u001b[0;34m\u001b[0m\u001b[0m\n\u001b[0m\u001b[1;32m      2\u001b[0m \u001b[0mun\u001b[0m\u001b[0;34m\u001b[0m\u001b[0;34m\u001b[0m\u001b[0m\n",
      "\u001b[0;31mNameError\u001b[0m: name 'unemployment' is not defined"
     ]
    }
   ],
   "source": [
    "un= unemployment.set_index(\"Year\")\n",
    "un"
   ]
  },
  {
   "cell_type": "code",
   "execution_count": 16,
   "metadata": {},
   "outputs": [
    {
     "data": {
      "text/plain": [
       "5.8"
      ]
     },
     "execution_count": 16,
     "metadata": {},
     "output_type": "execute_result"
    }
   ],
   "source": [
    "un.loc[2008,\"Dec\"]"
   ]
  },
  {
   "cell_type": "code",
   "execution_count": null,
   "metadata": {},
   "outputs": [],
   "source": []
  },
  {
   "cell_type": "code",
   "execution_count": 17,
   "metadata": {},
   "outputs": [
    {
     "data": {
      "text/plain": [
       "'Jan 2011'"
      ]
     },
     "execution_count": 17,
     "metadata": {},
     "output_type": "execute_result"
    }
   ],
   "source": [
    "one = complete_df.loc[0,'Date']\n",
    "one"
   ]
  },
  {
   "cell_type": "code",
   "execution_count": 18,
   "metadata": {},
   "outputs": [
    {
     "name": "stdout",
     "output_type": "stream",
     "text": [
      "Jan 2011\n"
     ]
    }
   ],
   "source": [
    "month, year = one.split(' ')\n",
    "year = int(year)\n",
    "print(month, year)"
   ]
  },
  {
   "cell_type": "code",
   "execution_count": 19,
   "metadata": {},
   "outputs": [
    {
     "data": {
      "text/plain": [
       "8.0"
      ]
     },
     "execution_count": 19,
     "metadata": {},
     "output_type": "execute_result"
    }
   ],
   "source": [
    "un.loc[year,month]\n",
    "un.loc[2011, 'Jan']"
   ]
  },
  {
   "cell_type": "code",
   "execution_count": 20,
   "metadata": {},
   "outputs": [],
   "source": [
    "date = one\n",
    "month, year = date.split(' ')\n"
   ]
  },
  {
   "cell_type": "code",
   "execution_count": 21,
   "metadata": {},
   "outputs": [],
   "source": [
    "def reference_cell(date):\n",
    "    # split date into month, year\n",
    "    month, year= date.split(\" \")\n",
    "    \n",
    "    #convert year to int\n",
    "    year= int(year)\n",
    "#     reference cell in position year, month\n",
    "    un_value= un.loc[year, month]\n",
    "    # Return output\n",
    "    return un_value "
   ]
  },
  {
   "cell_type": "code",
   "execution_count": 22,
   "metadata": {},
   "outputs": [
    {
     "data": {
      "text/plain": [
       "8.0"
      ]
     },
     "execution_count": 22,
     "metadata": {},
     "output_type": "execute_result"
    }
   ],
   "source": [
    "reference_cell(\"Jan 2011\")"
   ]
  },
  {
   "cell_type": "code",
   "execution_count": 23,
   "metadata": {},
   "outputs": [],
   "source": [
    "complete_df[\"unemployment\"]=complete_df['Date'].apply(reference_cell)\n"
   ]
  },
  {
   "cell_type": "code",
   "execution_count": 24,
   "metadata": {},
   "outputs": [
    {
     "data": {
      "text/html": [
       "<div>\n",
       "<style scoped>\n",
       "    .dataframe tbody tr th:only-of-type {\n",
       "        vertical-align: middle;\n",
       "    }\n",
       "\n",
       "    .dataframe tbody tr th {\n",
       "        vertical-align: top;\n",
       "    }\n",
       "\n",
       "    .dataframe thead th {\n",
       "        text-align: right;\n",
       "    }\n",
       "</style>\n",
       "<table border=\"1\" class=\"dataframe\">\n",
       "  <thead>\n",
       "    <tr style=\"text-align: right;\">\n",
       "      <th></th>\n",
       "      <th>Date</th>\n",
       "      <th>Sales</th>\n",
       "      <th>Dollar Volume</th>\n",
       "      <th>Average Price</th>\n",
       "      <th>Median Price</th>\n",
       "      <th>Total Listings</th>\n",
       "      <th>Months Invntory</th>\n",
       "      <th>County</th>\n",
       "      <th>unemployment</th>\n",
       "    </tr>\n",
       "  </thead>\n",
       "  <tbody>\n",
       "    <tr>\n",
       "      <th>0</th>\n",
       "      <td>Jan 2011</td>\n",
       "      <td>70</td>\n",
       "      <td>11,926,588</td>\n",
       "      <td>170,380</td>\n",
       "      <td>168,052</td>\n",
       "      <td>NaN</td>\n",
       "      <td>NaN</td>\n",
       "      <td>Guadalupe</td>\n",
       "      <td>8.0</td>\n",
       "    </tr>\n",
       "    <tr>\n",
       "      <th>1</th>\n",
       "      <td>Feb 2011</td>\n",
       "      <td>88</td>\n",
       "      <td>13,808,445</td>\n",
       "      <td>156,914</td>\n",
       "      <td>150,000</td>\n",
       "      <td>NaN</td>\n",
       "      <td>NaN</td>\n",
       "      <td>Guadalupe</td>\n",
       "      <td>7.9</td>\n",
       "    </tr>\n",
       "    <tr>\n",
       "      <th>2</th>\n",
       "      <td>Mar 2011</td>\n",
       "      <td>131</td>\n",
       "      <td>20,943,149</td>\n",
       "      <td>159,871</td>\n",
       "      <td>157,000</td>\n",
       "      <td>NaN</td>\n",
       "      <td>NaN</td>\n",
       "      <td>Guadalupe</td>\n",
       "      <td>7.9</td>\n",
       "    </tr>\n",
       "    <tr>\n",
       "      <th>3</th>\n",
       "      <td>Apr 2011</td>\n",
       "      <td>133</td>\n",
       "      <td>21,632,252</td>\n",
       "      <td>162,649</td>\n",
       "      <td>156,990</td>\n",
       "      <td>NaN</td>\n",
       "      <td>NaN</td>\n",
       "      <td>Guadalupe</td>\n",
       "      <td>7.9</td>\n",
       "    </tr>\n",
       "    <tr>\n",
       "      <th>4</th>\n",
       "      <td>May 2011</td>\n",
       "      <td>159</td>\n",
       "      <td>26,333,193</td>\n",
       "      <td>165,618</td>\n",
       "      <td>156,000</td>\n",
       "      <td>NaN</td>\n",
       "      <td>NaN</td>\n",
       "      <td>Guadalupe</td>\n",
       "      <td>7.9</td>\n",
       "    </tr>\n",
       "  </tbody>\n",
       "</table>\n",
       "</div>"
      ],
      "text/plain": [
       "       Date Sales Dollar Volume Average Price Median Price Total Listings  \\\n",
       "0  Jan 2011    70    11,926,588       170,380      168,052            NaN   \n",
       "1  Feb 2011    88    13,808,445       156,914      150,000            NaN   \n",
       "2  Mar 2011   131    20,943,149       159,871      157,000            NaN   \n",
       "3  Apr 2011   133    21,632,252       162,649      156,990            NaN   \n",
       "4  May 2011   159    26,333,193       165,618      156,000            NaN   \n",
       "\n",
       "   Months Invntory     County  unemployment  \n",
       "0              NaN  Guadalupe           8.0  \n",
       "1              NaN  Guadalupe           7.9  \n",
       "2              NaN  Guadalupe           7.9  \n",
       "3              NaN  Guadalupe           7.9  \n",
       "4              NaN  Guadalupe           7.9  "
      ]
     },
     "execution_count": 24,
     "metadata": {},
     "output_type": "execute_result"
    }
   ],
   "source": [
    "complete_df.head()"
   ]
  },
  {
   "cell_type": "code",
   "execution_count": 25,
   "metadata": {},
   "outputs": [
    {
     "data": {
      "text/html": [
       "<div>\n",
       "<style scoped>\n",
       "    .dataframe tbody tr th:only-of-type {\n",
       "        vertical-align: middle;\n",
       "    }\n",
       "\n",
       "    .dataframe tbody tr th {\n",
       "        vertical-align: top;\n",
       "    }\n",
       "\n",
       "    .dataframe thead th {\n",
       "        text-align: right;\n",
       "    }\n",
       "</style>\n",
       "<table border=\"1\" class=\"dataframe\">\n",
       "  <thead>\n",
       "    <tr style=\"text-align: right;\">\n",
       "      <th></th>\n",
       "      <th>Date</th>\n",
       "      <th>Sales</th>\n",
       "      <th>Dollar Volume</th>\n",
       "      <th>Average Price</th>\n",
       "      <th>Median Price</th>\n",
       "      <th>Total Listings</th>\n",
       "      <th>Months Invntory</th>\n",
       "      <th>County</th>\n",
       "      <th>unemployment</th>\n",
       "    </tr>\n",
       "  </thead>\n",
       "  <tbody>\n",
       "    <tr>\n",
       "      <th>0</th>\n",
       "      <td>Jan 2011</td>\n",
       "      <td>70</td>\n",
       "      <td>11,926,588</td>\n",
       "      <td>170,380</td>\n",
       "      <td>168,052</td>\n",
       "      <td>NaN</td>\n",
       "      <td>NaN</td>\n",
       "      <td>Guadalupe</td>\n",
       "      <td>8.0</td>\n",
       "    </tr>\n",
       "    <tr>\n",
       "      <th>1</th>\n",
       "      <td>Feb 2011</td>\n",
       "      <td>88</td>\n",
       "      <td>13,808,445</td>\n",
       "      <td>156,914</td>\n",
       "      <td>150,000</td>\n",
       "      <td>NaN</td>\n",
       "      <td>NaN</td>\n",
       "      <td>Guadalupe</td>\n",
       "      <td>7.9</td>\n",
       "    </tr>\n",
       "    <tr>\n",
       "      <th>2</th>\n",
       "      <td>Mar 2011</td>\n",
       "      <td>131</td>\n",
       "      <td>20,943,149</td>\n",
       "      <td>159,871</td>\n",
       "      <td>157,000</td>\n",
       "      <td>NaN</td>\n",
       "      <td>NaN</td>\n",
       "      <td>Guadalupe</td>\n",
       "      <td>7.9</td>\n",
       "    </tr>\n",
       "    <tr>\n",
       "      <th>3</th>\n",
       "      <td>Apr 2011</td>\n",
       "      <td>133</td>\n",
       "      <td>21,632,252</td>\n",
       "      <td>162,649</td>\n",
       "      <td>156,990</td>\n",
       "      <td>NaN</td>\n",
       "      <td>NaN</td>\n",
       "      <td>Guadalupe</td>\n",
       "      <td>7.9</td>\n",
       "    </tr>\n",
       "    <tr>\n",
       "      <th>4</th>\n",
       "      <td>May 2011</td>\n",
       "      <td>159</td>\n",
       "      <td>26,333,193</td>\n",
       "      <td>165,618</td>\n",
       "      <td>156,000</td>\n",
       "      <td>NaN</td>\n",
       "      <td>NaN</td>\n",
       "      <td>Guadalupe</td>\n",
       "      <td>7.9</td>\n",
       "    </tr>\n",
       "  </tbody>\n",
       "</table>\n",
       "</div>"
      ],
      "text/plain": [
       "       Date Sales Dollar Volume Average Price Median Price Total Listings  \\\n",
       "0  Jan 2011    70    11,926,588       170,380      168,052            NaN   \n",
       "1  Feb 2011    88    13,808,445       156,914      150,000            NaN   \n",
       "2  Mar 2011   131    20,943,149       159,871      157,000            NaN   \n",
       "3  Apr 2011   133    21,632,252       162,649      156,990            NaN   \n",
       "4  May 2011   159    26,333,193       165,618      156,000            NaN   \n",
       "\n",
       "   Months Invntory     County  unemployment  \n",
       "0              NaN  Guadalupe           8.0  \n",
       "1              NaN  Guadalupe           7.9  \n",
       "2              NaN  Guadalupe           7.9  \n",
       "3              NaN  Guadalupe           7.9  \n",
       "4              NaN  Guadalupe           7.9  "
      ]
     },
     "execution_count": 25,
     "metadata": {},
     "output_type": "execute_result"
    }
   ],
   "source": [
    "complete_df['unemployment'] = complete_df['Date'].apply(lambda x: un.loc[int(x.split()[1]), x.split()[0]])\n",
    "complete_df.head()"
   ]
  },
  {
   "cell_type": "code",
   "execution_count": 26,
   "metadata": {},
   "outputs": [
    {
     "data": {
      "text/html": [
       "<div>\n",
       "<style scoped>\n",
       "    .dataframe tbody tr th:only-of-type {\n",
       "        vertical-align: middle;\n",
       "    }\n",
       "\n",
       "    .dataframe tbody tr th {\n",
       "        vertical-align: top;\n",
       "    }\n",
       "\n",
       "    .dataframe thead th {\n",
       "        text-align: right;\n",
       "    }\n",
       "</style>\n",
       "<table border=\"1\" class=\"dataframe\">\n",
       "  <thead>\n",
       "    <tr style=\"text-align: right;\">\n",
       "      <th></th>\n",
       "      <th>Unnamed: 0</th>\n",
       "      <th>level_0</th>\n",
       "      <th>index</th>\n",
       "      <th>Date</th>\n",
       "      <th>Sales</th>\n",
       "      <th>Dollar Volume</th>\n",
       "      <th>Average Price</th>\n",
       "      <th>Median Price</th>\n",
       "      <th>Total Listings</th>\n",
       "      <th>Months Invntory</th>\n",
       "      <th>County</th>\n",
       "      <th>Oil Price</th>\n",
       "      <th>Unemployment</th>\n",
       "    </tr>\n",
       "  </thead>\n",
       "  <tbody>\n",
       "    <tr>\n",
       "      <th>0</th>\n",
       "      <td>2185</td>\n",
       "      <td>2185</td>\n",
       "      <td>0</td>\n",
       "      <td>01/01/11</td>\n",
       "      <td>14.0</td>\n",
       "      <td>1079600.0</td>\n",
       "      <td>77114.0</td>\n",
       "      <td>71700.0</td>\n",
       "      <td>344.0</td>\n",
       "      <td>33.6</td>\n",
       "      <td>Anderson</td>\n",
       "      <td>89.17</td>\n",
       "      <td>8.0</td>\n",
       "    </tr>\n",
       "    <tr>\n",
       "      <th>1</th>\n",
       "      <td>2186</td>\n",
       "      <td>2186</td>\n",
       "      <td>1</td>\n",
       "      <td>02/01/11</td>\n",
       "      <td>21.0</td>\n",
       "      <td>2286934.0</td>\n",
       "      <td>108902.0</td>\n",
       "      <td>74000.0</td>\n",
       "      <td>371.0</td>\n",
       "      <td>31.6</td>\n",
       "      <td>Anderson</td>\n",
       "      <td>88.58</td>\n",
       "      <td>7.8</td>\n",
       "    </tr>\n",
       "    <tr>\n",
       "      <th>2</th>\n",
       "      <td>2187</td>\n",
       "      <td>2187</td>\n",
       "      <td>2</td>\n",
       "      <td>03/01/11</td>\n",
       "      <td>25.0</td>\n",
       "      <td>3013550.0</td>\n",
       "      <td>120542.0</td>\n",
       "      <td>92000.0</td>\n",
       "      <td>369.0</td>\n",
       "      <td>27.3</td>\n",
       "      <td>Anderson</td>\n",
       "      <td>102.86</td>\n",
       "      <td>7.5</td>\n",
       "    </tr>\n",
       "    <tr>\n",
       "      <th>3</th>\n",
       "      <td>2188</td>\n",
       "      <td>2188</td>\n",
       "      <td>3</td>\n",
       "      <td>04/01/11</td>\n",
       "      <td>27.0</td>\n",
       "      <td>3203350.0</td>\n",
       "      <td>118643.0</td>\n",
       "      <td>119500.0</td>\n",
       "      <td>362.0</td>\n",
       "      <td>23.2</td>\n",
       "      <td>Anderson</td>\n",
       "      <td>109.53</td>\n",
       "      <td>7.1</td>\n",
       "    </tr>\n",
       "    <tr>\n",
       "      <th>4</th>\n",
       "      <td>2189</td>\n",
       "      <td>2189</td>\n",
       "      <td>4</td>\n",
       "      <td>05/01/11</td>\n",
       "      <td>28.0</td>\n",
       "      <td>2414161.0</td>\n",
       "      <td>86220.0</td>\n",
       "      <td>71250.0</td>\n",
       "      <td>381.0</td>\n",
       "      <td>22.6</td>\n",
       "      <td>Anderson</td>\n",
       "      <td>100.90</td>\n",
       "      <td>7.2</td>\n",
       "    </tr>\n",
       "  </tbody>\n",
       "</table>\n",
       "</div>"
      ],
      "text/plain": [
       "   Unnamed: 0  level_0  index      Date  Sales  Dollar Volume  Average Price  \\\n",
       "0        2185     2185      0  01/01/11   14.0      1079600.0        77114.0   \n",
       "1        2186     2186      1  02/01/11   21.0      2286934.0       108902.0   \n",
       "2        2187     2187      2  03/01/11   25.0      3013550.0       120542.0   \n",
       "3        2188     2188      3  04/01/11   27.0      3203350.0       118643.0   \n",
       "4        2189     2189      4  05/01/11   28.0      2414161.0        86220.0   \n",
       "\n",
       "   Median Price  Total Listings  Months Invntory    County  Oil Price  \\\n",
       "0       71700.0           344.0             33.6  Anderson      89.17   \n",
       "1       74000.0           371.0             31.6  Anderson      88.58   \n",
       "2       92000.0           369.0             27.3  Anderson     102.86   \n",
       "3      119500.0           362.0             23.2  Anderson     109.53   \n",
       "4       71250.0           381.0             22.6  Anderson     100.90   \n",
       "\n",
       "   Unemployment  \n",
       "0           8.0  \n",
       "1           7.8  \n",
       "2           7.5  \n",
       "3           7.1  \n",
       "4           7.2  "
      ]
     },
     "execution_count": 26,
     "metadata": {},
     "output_type": "execute_result"
    }
   ],
   "source": [
    "hp= pd.read_csv(\"complete_file.csv\")\n",
    "hp.head()"
   ]
  },
  {
   "cell_type": "code",
   "execution_count": 27,
   "metadata": {},
   "outputs": [
    {
     "data": {
      "text/html": [
       "<div>\n",
       "<style scoped>\n",
       "    .dataframe tbody tr th:only-of-type {\n",
       "        vertical-align: middle;\n",
       "    }\n",
       "\n",
       "    .dataframe tbody tr th {\n",
       "        vertical-align: top;\n",
       "    }\n",
       "\n",
       "    .dataframe thead th {\n",
       "        text-align: right;\n",
       "    }\n",
       "</style>\n",
       "<table border=\"1\" class=\"dataframe\">\n",
       "  <thead>\n",
       "    <tr style=\"text-align: right;\">\n",
       "      <th></th>\n",
       "      <th>Unnamed: 0</th>\n",
       "      <th>level_0</th>\n",
       "      <th>index</th>\n",
       "      <th>Date</th>\n",
       "      <th>Sales</th>\n",
       "      <th>Dollar Volume</th>\n",
       "      <th>Average Price</th>\n",
       "      <th>Median Price</th>\n",
       "      <th>Total Listings</th>\n",
       "      <th>Months Invntory</th>\n",
       "      <th>County</th>\n",
       "      <th>Oil Price</th>\n",
       "      <th>Unemployment</th>\n",
       "    </tr>\n",
       "  </thead>\n",
       "  <tbody>\n",
       "    <tr>\n",
       "      <th>0</th>\n",
       "      <td>2185</td>\n",
       "      <td>2185</td>\n",
       "      <td>0</td>\n",
       "      <td>01/01/11</td>\n",
       "      <td>14.0</td>\n",
       "      <td>1079600.0</td>\n",
       "      <td>77114.0</td>\n",
       "      <td>71700.0</td>\n",
       "      <td>344.0</td>\n",
       "      <td>33.6</td>\n",
       "      <td>Anderson</td>\n",
       "      <td>89.17</td>\n",
       "      <td>8.0</td>\n",
       "    </tr>\n",
       "    <tr>\n",
       "      <th>1</th>\n",
       "      <td>2186</td>\n",
       "      <td>2186</td>\n",
       "      <td>1</td>\n",
       "      <td>02/01/11</td>\n",
       "      <td>21.0</td>\n",
       "      <td>2286934.0</td>\n",
       "      <td>108902.0</td>\n",
       "      <td>74000.0</td>\n",
       "      <td>371.0</td>\n",
       "      <td>31.6</td>\n",
       "      <td>Anderson</td>\n",
       "      <td>88.58</td>\n",
       "      <td>7.8</td>\n",
       "    </tr>\n",
       "    <tr>\n",
       "      <th>2</th>\n",
       "      <td>2187</td>\n",
       "      <td>2187</td>\n",
       "      <td>2</td>\n",
       "      <td>03/01/11</td>\n",
       "      <td>25.0</td>\n",
       "      <td>3013550.0</td>\n",
       "      <td>120542.0</td>\n",
       "      <td>92000.0</td>\n",
       "      <td>369.0</td>\n",
       "      <td>27.3</td>\n",
       "      <td>Anderson</td>\n",
       "      <td>102.86</td>\n",
       "      <td>7.5</td>\n",
       "    </tr>\n",
       "    <tr>\n",
       "      <th>3</th>\n",
       "      <td>2188</td>\n",
       "      <td>2188</td>\n",
       "      <td>3</td>\n",
       "      <td>04/01/11</td>\n",
       "      <td>27.0</td>\n",
       "      <td>3203350.0</td>\n",
       "      <td>118643.0</td>\n",
       "      <td>119500.0</td>\n",
       "      <td>362.0</td>\n",
       "      <td>23.2</td>\n",
       "      <td>Anderson</td>\n",
       "      <td>109.53</td>\n",
       "      <td>7.1</td>\n",
       "    </tr>\n",
       "    <tr>\n",
       "      <th>4</th>\n",
       "      <td>2189</td>\n",
       "      <td>2189</td>\n",
       "      <td>4</td>\n",
       "      <td>05/01/11</td>\n",
       "      <td>28.0</td>\n",
       "      <td>2414161.0</td>\n",
       "      <td>86220.0</td>\n",
       "      <td>71250.0</td>\n",
       "      <td>381.0</td>\n",
       "      <td>22.6</td>\n",
       "      <td>Anderson</td>\n",
       "      <td>100.90</td>\n",
       "      <td>7.2</td>\n",
       "    </tr>\n",
       "  </tbody>\n",
       "</table>\n",
       "</div>"
      ],
      "text/plain": [
       "   Unnamed: 0  level_0  index      Date  Sales  Dollar Volume  Average Price  \\\n",
       "0        2185     2185      0  01/01/11   14.0      1079600.0        77114.0   \n",
       "1        2186     2186      1  02/01/11   21.0      2286934.0       108902.0   \n",
       "2        2187     2187      2  03/01/11   25.0      3013550.0       120542.0   \n",
       "3        2188     2188      3  04/01/11   27.0      3203350.0       118643.0   \n",
       "4        2189     2189      4  05/01/11   28.0      2414161.0        86220.0   \n",
       "\n",
       "   Median Price  Total Listings  Months Invntory    County  Oil Price  \\\n",
       "0       71700.0           344.0             33.6  Anderson      89.17   \n",
       "1       74000.0           371.0             31.6  Anderson      88.58   \n",
       "2       92000.0           369.0             27.3  Anderson     102.86   \n",
       "3      119500.0           362.0             23.2  Anderson     109.53   \n",
       "4       71250.0           381.0             22.6  Anderson     100.90   \n",
       "\n",
       "   Unemployment  \n",
       "0           8.0  \n",
       "1           7.8  \n",
       "2           7.5  \n",
       "3           7.1  \n",
       "4           7.2  "
      ]
     },
     "execution_count": 27,
     "metadata": {},
     "output_type": "execute_result"
    }
   ],
   "source": [
    "#cleaning the data\n",
    "hpdf=pd.DataFrame(hp)\n",
    "hpdf.head()"
   ]
  },
  {
   "cell_type": "code",
   "execution_count": 28,
   "metadata": {},
   "outputs": [
    {
     "data": {
      "text/html": [
       "<div>\n",
       "<style scoped>\n",
       "    .dataframe tbody tr th:only-of-type {\n",
       "        vertical-align: middle;\n",
       "    }\n",
       "\n",
       "    .dataframe tbody tr th {\n",
       "        vertical-align: top;\n",
       "    }\n",
       "\n",
       "    .dataframe thead th {\n",
       "        text-align: right;\n",
       "    }\n",
       "</style>\n",
       "<table border=\"1\" class=\"dataframe\">\n",
       "  <thead>\n",
       "    <tr style=\"text-align: right;\">\n",
       "      <th></th>\n",
       "      <th>Unnamed: 0</th>\n",
       "      <th>level_0</th>\n",
       "      <th>index</th>\n",
       "      <th>Date</th>\n",
       "      <th>Sales</th>\n",
       "      <th>Dollar Volume</th>\n",
       "      <th>Average Price</th>\n",
       "      <th>Median Price</th>\n",
       "      <th>Total Listings</th>\n",
       "      <th>Months Invntory</th>\n",
       "      <th>County</th>\n",
       "      <th>Oil Price</th>\n",
       "      <th>Unemployment</th>\n",
       "    </tr>\n",
       "  </thead>\n",
       "  <tbody>\n",
       "    <tr>\n",
       "      <th>0</th>\n",
       "      <td>2185</td>\n",
       "      <td>2185</td>\n",
       "      <td>0</td>\n",
       "      <td>01/01/11</td>\n",
       "      <td>14.0</td>\n",
       "      <td>1079600.0</td>\n",
       "      <td>77114.0</td>\n",
       "      <td>71700.0</td>\n",
       "      <td>344.0</td>\n",
       "      <td>33.6</td>\n",
       "      <td>Anderson</td>\n",
       "      <td>89.17</td>\n",
       "      <td>8.0</td>\n",
       "    </tr>\n",
       "    <tr>\n",
       "      <th>1</th>\n",
       "      <td>2186</td>\n",
       "      <td>2186</td>\n",
       "      <td>1</td>\n",
       "      <td>02/01/11</td>\n",
       "      <td>21.0</td>\n",
       "      <td>2286934.0</td>\n",
       "      <td>108902.0</td>\n",
       "      <td>74000.0</td>\n",
       "      <td>371.0</td>\n",
       "      <td>31.6</td>\n",
       "      <td>Anderson</td>\n",
       "      <td>88.58</td>\n",
       "      <td>7.8</td>\n",
       "    </tr>\n",
       "    <tr>\n",
       "      <th>2</th>\n",
       "      <td>2187</td>\n",
       "      <td>2187</td>\n",
       "      <td>2</td>\n",
       "      <td>03/01/11</td>\n",
       "      <td>25.0</td>\n",
       "      <td>3013550.0</td>\n",
       "      <td>120542.0</td>\n",
       "      <td>92000.0</td>\n",
       "      <td>369.0</td>\n",
       "      <td>27.3</td>\n",
       "      <td>Anderson</td>\n",
       "      <td>102.86</td>\n",
       "      <td>7.5</td>\n",
       "    </tr>\n",
       "    <tr>\n",
       "      <th>3</th>\n",
       "      <td>2188</td>\n",
       "      <td>2188</td>\n",
       "      <td>3</td>\n",
       "      <td>04/01/11</td>\n",
       "      <td>27.0</td>\n",
       "      <td>3203350.0</td>\n",
       "      <td>118643.0</td>\n",
       "      <td>119500.0</td>\n",
       "      <td>362.0</td>\n",
       "      <td>23.2</td>\n",
       "      <td>Anderson</td>\n",
       "      <td>109.53</td>\n",
       "      <td>7.1</td>\n",
       "    </tr>\n",
       "    <tr>\n",
       "      <th>4</th>\n",
       "      <td>2189</td>\n",
       "      <td>2189</td>\n",
       "      <td>4</td>\n",
       "      <td>05/01/11</td>\n",
       "      <td>28.0</td>\n",
       "      <td>2414161.0</td>\n",
       "      <td>86220.0</td>\n",
       "      <td>71250.0</td>\n",
       "      <td>381.0</td>\n",
       "      <td>22.6</td>\n",
       "      <td>Anderson</td>\n",
       "      <td>100.90</td>\n",
       "      <td>7.2</td>\n",
       "    </tr>\n",
       "  </tbody>\n",
       "</table>\n",
       "</div>"
      ],
      "text/plain": [
       "   Unnamed: 0  level_0  index      Date  Sales  Dollar Volume  Average Price  \\\n",
       "0        2185     2185      0  01/01/11   14.0      1079600.0        77114.0   \n",
       "1        2186     2186      1  02/01/11   21.0      2286934.0       108902.0   \n",
       "2        2187     2187      2  03/01/11   25.0      3013550.0       120542.0   \n",
       "3        2188     2188      3  04/01/11   27.0      3203350.0       118643.0   \n",
       "4        2189     2189      4  05/01/11   28.0      2414161.0        86220.0   \n",
       "\n",
       "   Median Price  Total Listings  Months Invntory    County  Oil Price  \\\n",
       "0       71700.0           344.0             33.6  Anderson      89.17   \n",
       "1       74000.0           371.0             31.6  Anderson      88.58   \n",
       "2       92000.0           369.0             27.3  Anderson     102.86   \n",
       "3      119500.0           362.0             23.2  Anderson     109.53   \n",
       "4       71250.0           381.0             22.6  Anderson     100.90   \n",
       "\n",
       "   Unemployment  \n",
       "0           8.0  \n",
       "1           7.8  \n",
       "2           7.5  \n",
       "3           7.1  \n",
       "4           7.2  "
      ]
     },
     "execution_count": 28,
     "metadata": {},
     "output_type": "execute_result"
    }
   ],
   "source": [
    "hpdf[[\"Date\",\"County\",\"Oil Price\", \"Unemployment\", \"Average Price\",\"Median Price\" ]]\n",
    "hpdf.head()"
   ]
  },
  {
   "cell_type": "code",
   "execution_count": 29,
   "metadata": {},
   "outputs": [
    {
     "data": {
      "text/html": [
       "<div>\n",
       "<style scoped>\n",
       "    .dataframe tbody tr th:only-of-type {\n",
       "        vertical-align: middle;\n",
       "    }\n",
       "\n",
       "    .dataframe tbody tr th {\n",
       "        vertical-align: top;\n",
       "    }\n",
       "\n",
       "    .dataframe thead th {\n",
       "        text-align: right;\n",
       "    }\n",
       "</style>\n",
       "<table border=\"1\" class=\"dataframe\">\n",
       "  <thead>\n",
       "    <tr style=\"text-align: right;\">\n",
       "      <th></th>\n",
       "      <th>Unnamed: 0</th>\n",
       "      <th>level_0</th>\n",
       "      <th>index</th>\n",
       "      <th>Date</th>\n",
       "      <th>Sales</th>\n",
       "      <th>Dollar Volume</th>\n",
       "      <th>Housing Average Price</th>\n",
       "      <th>Housing Median Price</th>\n",
       "      <th>Total Listings</th>\n",
       "      <th>Months Invntory</th>\n",
       "      <th>County</th>\n",
       "      <th>Oil Price</th>\n",
       "      <th>Unemployment</th>\n",
       "    </tr>\n",
       "  </thead>\n",
       "  <tbody>\n",
       "    <tr>\n",
       "      <th>0</th>\n",
       "      <td>2185</td>\n",
       "      <td>2185</td>\n",
       "      <td>0</td>\n",
       "      <td>01/01/11</td>\n",
       "      <td>14.0</td>\n",
       "      <td>1079600.0</td>\n",
       "      <td>77114.0</td>\n",
       "      <td>71700.0</td>\n",
       "      <td>344.0</td>\n",
       "      <td>33.6</td>\n",
       "      <td>Anderson</td>\n",
       "      <td>89.17</td>\n",
       "      <td>8.0</td>\n",
       "    </tr>\n",
       "    <tr>\n",
       "      <th>1</th>\n",
       "      <td>2186</td>\n",
       "      <td>2186</td>\n",
       "      <td>1</td>\n",
       "      <td>02/01/11</td>\n",
       "      <td>21.0</td>\n",
       "      <td>2286934.0</td>\n",
       "      <td>108902.0</td>\n",
       "      <td>74000.0</td>\n",
       "      <td>371.0</td>\n",
       "      <td>31.6</td>\n",
       "      <td>Anderson</td>\n",
       "      <td>88.58</td>\n",
       "      <td>7.8</td>\n",
       "    </tr>\n",
       "    <tr>\n",
       "      <th>2</th>\n",
       "      <td>2187</td>\n",
       "      <td>2187</td>\n",
       "      <td>2</td>\n",
       "      <td>03/01/11</td>\n",
       "      <td>25.0</td>\n",
       "      <td>3013550.0</td>\n",
       "      <td>120542.0</td>\n",
       "      <td>92000.0</td>\n",
       "      <td>369.0</td>\n",
       "      <td>27.3</td>\n",
       "      <td>Anderson</td>\n",
       "      <td>102.86</td>\n",
       "      <td>7.5</td>\n",
       "    </tr>\n",
       "    <tr>\n",
       "      <th>3</th>\n",
       "      <td>2188</td>\n",
       "      <td>2188</td>\n",
       "      <td>3</td>\n",
       "      <td>04/01/11</td>\n",
       "      <td>27.0</td>\n",
       "      <td>3203350.0</td>\n",
       "      <td>118643.0</td>\n",
       "      <td>119500.0</td>\n",
       "      <td>362.0</td>\n",
       "      <td>23.2</td>\n",
       "      <td>Anderson</td>\n",
       "      <td>109.53</td>\n",
       "      <td>7.1</td>\n",
       "    </tr>\n",
       "    <tr>\n",
       "      <th>4</th>\n",
       "      <td>2189</td>\n",
       "      <td>2189</td>\n",
       "      <td>4</td>\n",
       "      <td>05/01/11</td>\n",
       "      <td>28.0</td>\n",
       "      <td>2414161.0</td>\n",
       "      <td>86220.0</td>\n",
       "      <td>71250.0</td>\n",
       "      <td>381.0</td>\n",
       "      <td>22.6</td>\n",
       "      <td>Anderson</td>\n",
       "      <td>100.90</td>\n",
       "      <td>7.2</td>\n",
       "    </tr>\n",
       "  </tbody>\n",
       "</table>\n",
       "</div>"
      ],
      "text/plain": [
       "   Unnamed: 0  level_0  index      Date  Sales  Dollar Volume  \\\n",
       "0        2185     2185      0  01/01/11   14.0      1079600.0   \n",
       "1        2186     2186      1  02/01/11   21.0      2286934.0   \n",
       "2        2187     2187      2  03/01/11   25.0      3013550.0   \n",
       "3        2188     2188      3  04/01/11   27.0      3203350.0   \n",
       "4        2189     2189      4  05/01/11   28.0      2414161.0   \n",
       "\n",
       "   Housing Average Price  Housing Median Price  Total Listings  \\\n",
       "0                77114.0               71700.0           344.0   \n",
       "1               108902.0               74000.0           371.0   \n",
       "2               120542.0               92000.0           369.0   \n",
       "3               118643.0              119500.0           362.0   \n",
       "4                86220.0               71250.0           381.0   \n",
       "\n",
       "   Months Invntory    County  Oil Price  Unemployment  \n",
       "0             33.6  Anderson      89.17           8.0  \n",
       "1             31.6  Anderson      88.58           7.8  \n",
       "2             27.3  Anderson     102.86           7.5  \n",
       "3             23.2  Anderson     109.53           7.1  \n",
       "4             22.6  Anderson     100.90           7.2  "
      ]
     },
     "execution_count": 29,
     "metadata": {},
     "output_type": "execute_result"
    }
   ],
   "source": [
    "hpdf=hpdf.rename(columns={\"Average Price\":\"Housing Average Price\",\n",
    "                          \"Median Price\": \"Housing Median Price\"})\n",
    "hpdf.head()"
   ]
  },
  {
   "cell_type": "code",
   "execution_count": 30,
   "metadata": {},
   "outputs": [
    {
     "data": {
      "text/html": [
       "<div>\n",
       "<style scoped>\n",
       "    .dataframe tbody tr th:only-of-type {\n",
       "        vertical-align: middle;\n",
       "    }\n",
       "\n",
       "    .dataframe tbody tr th {\n",
       "        vertical-align: top;\n",
       "    }\n",
       "\n",
       "    .dataframe thead th {\n",
       "        text-align: right;\n",
       "    }\n",
       "</style>\n",
       "<table border=\"1\" class=\"dataframe\">\n",
       "  <thead>\n",
       "    <tr style=\"text-align: right;\">\n",
       "      <th></th>\n",
       "      <th>Date</th>\n",
       "      <th>County</th>\n",
       "      <th>Oil Price</th>\n",
       "      <th>Unemployment</th>\n",
       "      <th>Housing Average Price</th>\n",
       "      <th>Housing Median Price</th>\n",
       "    </tr>\n",
       "  </thead>\n",
       "  <tbody>\n",
       "    <tr>\n",
       "      <th>0</th>\n",
       "      <td>01/01/11</td>\n",
       "      <td>Anderson</td>\n",
       "      <td>89.17</td>\n",
       "      <td>8.0</td>\n",
       "      <td>77114.0</td>\n",
       "      <td>71700.0</td>\n",
       "    </tr>\n",
       "    <tr>\n",
       "      <th>1</th>\n",
       "      <td>02/01/11</td>\n",
       "      <td>Anderson</td>\n",
       "      <td>88.58</td>\n",
       "      <td>7.8</td>\n",
       "      <td>108902.0</td>\n",
       "      <td>74000.0</td>\n",
       "    </tr>\n",
       "    <tr>\n",
       "      <th>2</th>\n",
       "      <td>03/01/11</td>\n",
       "      <td>Anderson</td>\n",
       "      <td>102.86</td>\n",
       "      <td>7.5</td>\n",
       "      <td>120542.0</td>\n",
       "      <td>92000.0</td>\n",
       "    </tr>\n",
       "    <tr>\n",
       "      <th>3</th>\n",
       "      <td>04/01/11</td>\n",
       "      <td>Anderson</td>\n",
       "      <td>109.53</td>\n",
       "      <td>7.1</td>\n",
       "      <td>118643.0</td>\n",
       "      <td>119500.0</td>\n",
       "    </tr>\n",
       "    <tr>\n",
       "      <th>4</th>\n",
       "      <td>05/01/11</td>\n",
       "      <td>Anderson</td>\n",
       "      <td>100.90</td>\n",
       "      <td>7.2</td>\n",
       "      <td>86220.0</td>\n",
       "      <td>71250.0</td>\n",
       "    </tr>\n",
       "  </tbody>\n",
       "</table>\n",
       "</div>"
      ],
      "text/plain": [
       "       Date    County  Oil Price  Unemployment  Housing Average Price  \\\n",
       "0  01/01/11  Anderson      89.17           8.0                77114.0   \n",
       "1  02/01/11  Anderson      88.58           7.8               108902.0   \n",
       "2  03/01/11  Anderson     102.86           7.5               120542.0   \n",
       "3  04/01/11  Anderson     109.53           7.1               118643.0   \n",
       "4  05/01/11  Anderson     100.90           7.2                86220.0   \n",
       "\n",
       "   Housing Median Price  \n",
       "0               71700.0  \n",
       "1               74000.0  \n",
       "2               92000.0  \n",
       "3              119500.0  \n",
       "4               71250.0  "
      ]
     },
     "execution_count": 30,
     "metadata": {},
     "output_type": "execute_result"
    }
   ],
   "source": [
    "hpdf_cl=hpdf[[\"Date\",\"County\",\"Oil Price\", \"Unemployment\",\"Housing Average Price\",\"Housing Median Price\"]]\n",
    "hpdf_cl.head(5)"
   ]
  },
  {
   "cell_type": "code",
   "execution_count": 31,
   "metadata": {},
   "outputs": [
    {
     "data": {
      "text/html": [
       "<div>\n",
       "<style scoped>\n",
       "    .dataframe tbody tr th:only-of-type {\n",
       "        vertical-align: middle;\n",
       "    }\n",
       "\n",
       "    .dataframe tbody tr th {\n",
       "        vertical-align: top;\n",
       "    }\n",
       "\n",
       "    .dataframe thead th {\n",
       "        text-align: right;\n",
       "    }\n",
       "</style>\n",
       "<table border=\"1\" class=\"dataframe\">\n",
       "  <thead>\n",
       "    <tr style=\"text-align: right;\">\n",
       "      <th></th>\n",
       "      <th>Date</th>\n",
       "      <th>County</th>\n",
       "      <th>Oil Price</th>\n",
       "      <th>Unemployment</th>\n",
       "      <th>Housing Average Price</th>\n",
       "      <th>Housing Median Price</th>\n",
       "    </tr>\n",
       "  </thead>\n",
       "  <tbody>\n",
       "    <tr>\n",
       "      <th>0</th>\n",
       "      <td>01/01/11</td>\n",
       "      <td>Anderson</td>\n",
       "      <td>89.17</td>\n",
       "      <td>8.0</td>\n",
       "      <td>77114.0</td>\n",
       "      <td>71700.0</td>\n",
       "    </tr>\n",
       "    <tr>\n",
       "      <th>1</th>\n",
       "      <td>02/01/11</td>\n",
       "      <td>Anderson</td>\n",
       "      <td>88.58</td>\n",
       "      <td>7.8</td>\n",
       "      <td>108902.0</td>\n",
       "      <td>74000.0</td>\n",
       "    </tr>\n",
       "    <tr>\n",
       "      <th>2</th>\n",
       "      <td>03/01/11</td>\n",
       "      <td>Anderson</td>\n",
       "      <td>102.86</td>\n",
       "      <td>7.5</td>\n",
       "      <td>120542.0</td>\n",
       "      <td>92000.0</td>\n",
       "    </tr>\n",
       "    <tr>\n",
       "      <th>3</th>\n",
       "      <td>04/01/11</td>\n",
       "      <td>Anderson</td>\n",
       "      <td>109.53</td>\n",
       "      <td>7.1</td>\n",
       "      <td>118643.0</td>\n",
       "      <td>119500.0</td>\n",
       "    </tr>\n",
       "    <tr>\n",
       "      <th>4</th>\n",
       "      <td>05/01/11</td>\n",
       "      <td>Anderson</td>\n",
       "      <td>100.90</td>\n",
       "      <td>7.2</td>\n",
       "      <td>86220.0</td>\n",
       "      <td>71250.0</td>\n",
       "    </tr>\n",
       "  </tbody>\n",
       "</table>\n",
       "</div>"
      ],
      "text/plain": [
       "       Date    County  Oil Price  Unemployment  Housing Average Price  \\\n",
       "0  01/01/11  Anderson      89.17           8.0                77114.0   \n",
       "1  02/01/11  Anderson      88.58           7.8               108902.0   \n",
       "2  03/01/11  Anderson     102.86           7.5               120542.0   \n",
       "3  04/01/11  Anderson     109.53           7.1               118643.0   \n",
       "4  05/01/11  Anderson     100.90           7.2                86220.0   \n",
       "\n",
       "   Housing Median Price  \n",
       "0               71700.0  \n",
       "1               74000.0  \n",
       "2               92000.0  \n",
       "3              119500.0  \n",
       "4               71250.0  "
      ]
     },
     "execution_count": 31,
     "metadata": {},
     "output_type": "execute_result"
    }
   ],
   "source": [
    "hpdf_c= hpdf_cl.loc[hpdf_cl[\"County\"]== \"Anderson\",:]\n",
    "hpdf_c.head()"
   ]
  },
  {
   "cell_type": "code",
   "execution_count": 32,
   "metadata": {},
   "outputs": [
    {
     "data": {
      "text/html": [
       "<div>\n",
       "<style scoped>\n",
       "    .dataframe tbody tr th:only-of-type {\n",
       "        vertical-align: middle;\n",
       "    }\n",
       "\n",
       "    .dataframe tbody tr th {\n",
       "        vertical-align: top;\n",
       "    }\n",
       "\n",
       "    .dataframe thead th {\n",
       "        text-align: right;\n",
       "    }\n",
       "</style>\n",
       "<table border=\"1\" class=\"dataframe\">\n",
       "  <thead>\n",
       "    <tr style=\"text-align: right;\">\n",
       "      <th></th>\n",
       "      <th>Date</th>\n",
       "      <th>County</th>\n",
       "      <th>Oil Price</th>\n",
       "      <th>Unemployment</th>\n",
       "      <th>Housing Average Price</th>\n",
       "      <th>Housing Median Price</th>\n",
       "    </tr>\n",
       "  </thead>\n",
       "  <tbody>\n",
       "    <tr>\n",
       "      <th>144</th>\n",
       "      <td>01/01/11</td>\n",
       "      <td>Austin</td>\n",
       "      <td>89.17</td>\n",
       "      <td>8.3</td>\n",
       "      <td>190417.0</td>\n",
       "      <td>208500.0</td>\n",
       "    </tr>\n",
       "    <tr>\n",
       "      <th>145</th>\n",
       "      <td>02/01/11</td>\n",
       "      <td>Austin</td>\n",
       "      <td>88.58</td>\n",
       "      <td>8.2</td>\n",
       "      <td>126655.0</td>\n",
       "      <td>133025.0</td>\n",
       "    </tr>\n",
       "    <tr>\n",
       "      <th>146</th>\n",
       "      <td>03/01/11</td>\n",
       "      <td>Austin</td>\n",
       "      <td>102.86</td>\n",
       "      <td>7.8</td>\n",
       "      <td>174726.0</td>\n",
       "      <td>118000.0</td>\n",
       "    </tr>\n",
       "    <tr>\n",
       "      <th>147</th>\n",
       "      <td>04/01/11</td>\n",
       "      <td>Austin</td>\n",
       "      <td>109.53</td>\n",
       "      <td>7.4</td>\n",
       "      <td>125583.0</td>\n",
       "      <td>148250.0</td>\n",
       "    </tr>\n",
       "    <tr>\n",
       "      <th>148</th>\n",
       "      <td>05/01/11</td>\n",
       "      <td>Austin</td>\n",
       "      <td>100.90</td>\n",
       "      <td>7.5</td>\n",
       "      <td>120050.0</td>\n",
       "      <td>125000.0</td>\n",
       "    </tr>\n",
       "  </tbody>\n",
       "</table>\n",
       "</div>"
      ],
      "text/plain": [
       "         Date  County  Oil Price  Unemployment  Housing Average Price  \\\n",
       "144  01/01/11  Austin      89.17           8.3               190417.0   \n",
       "145  02/01/11  Austin      88.58           8.2               126655.0   \n",
       "146  03/01/11  Austin     102.86           7.8               174726.0   \n",
       "147  04/01/11  Austin     109.53           7.4               125583.0   \n",
       "148  05/01/11  Austin     100.90           7.5               120050.0   \n",
       "\n",
       "     Housing Median Price  \n",
       "144              208500.0  \n",
       "145              133025.0  \n",
       "146              118000.0  \n",
       "147              148250.0  \n",
       "148              125000.0  "
      ]
     },
     "execution_count": 32,
     "metadata": {},
     "output_type": "execute_result"
    }
   ],
   "source": [
    "County_list=[\"Austin\", \"Brazoria\", \"Fort_Bend\", \"Galveston\", \"Harris\", \"Montgomery\"]\n",
    "County_list_Houston = pd.DataFrame()\n",
    "for item in County_list:    \n",
    "    hpdf_c= hpdf_cl.loc[hpdf_cl[\"County\"]== item,:]\n",
    "    County_list_Houston = County_list_Houston.append(hpdf_c)\n",
    "County_list_Houston.head()\n"
   ]
  },
  {
   "cell_type": "code",
   "execution_count": 1,
   "metadata": {},
   "outputs": [
    {
     "ename": "NameError",
     "evalue": "name 'County_list_Houston' is not defined",
     "output_type": "error",
     "traceback": [
      "\u001b[0;31m---------------------------------------------------------------------------\u001b[0m",
      "\u001b[0;31mNameError\u001b[0m                                 Traceback (most recent call last)",
      "\u001b[0;32m<ipython-input-1-db4948f454c4>\u001b[0m in \u001b[0;36m<module>\u001b[0;34m()\u001b[0m\n\u001b[0;32m----> 1\u001b[0;31m \u001b[0mcounty_group\u001b[0m\u001b[0;34m=\u001b[0m \u001b[0mCounty_list_Houston\u001b[0m\u001b[0;34m.\u001b[0m\u001b[0mgroupby\u001b[0m\u001b[0;34m(\u001b[0m\u001b[0;34m[\u001b[0m\u001b[0;34m\"County\"\u001b[0m\u001b[0;34m,\u001b[0m\u001b[0;34m\"Date\"\u001b[0m\u001b[0;34m]\u001b[0m\u001b[0;34m)\u001b[0m\u001b[0;34m\u001b[0m\u001b[0;34m\u001b[0m\u001b[0m\n\u001b[0m\u001b[1;32m      2\u001b[0m \u001b[0mcounty_group\u001b[0m\u001b[0;34m.\u001b[0m\u001b[0mhead\u001b[0m\u001b[0;34m(\u001b[0m\u001b[0;36m2\u001b[0m\u001b[0;34m)\u001b[0m\u001b[0;34m\u001b[0m\u001b[0;34m\u001b[0m\u001b[0m\n",
      "\u001b[0;31mNameError\u001b[0m: name 'County_list_Houston' is not defined"
     ]
    }
   ],
   "source": [
    "county_group= County_list_Houston.groupby([\"County\",\"Date\"])\n",
    "county_group.head(2)"
   ]
  },
  {
   "cell_type": "code",
   "execution_count": 33,
   "metadata": {},
   "outputs": [],
   "source": [
    "%matplotlib inline\n",
    "import matplotlib.pyplot as plt\n",
    "import pandas as pd\n",
    "import numpy as np"
   ]
  },
  {
   "cell_type": "code",
   "execution_count": 34,
   "metadata": {},
   "outputs": [],
   "source": [
    "plt.rcParams['figure.figsize']=(15,5)"
   ]
  },
  {
   "cell_type": "code",
   "execution_count": 53,
   "metadata": {},
   "outputs": [
    {
     "data": {
      "image/png": "[encoded data removed]",
      "text/plain": [
       "<Figure size 1080x360 with 1 Axes>"
      ]
     },
     "metadata": {
      "needs_background": "light"
     },
     "output_type": "display_data"
    }
   ],
   "source": [
    "Time_oilprice= plt.scatter(County_list_Houston[\"Date\"], County_list_Houston[\"Oil Price\"] , color=\"blue\")\n",
    "\n",
    "plt.show()"
   ]
  },
  {
   "cell_type": "code",
   "execution_count": 54,
   "metadata": {},
   "outputs": [
    {
     "data": {
      "image/png": "[encoded data removed]",
      "text/plain": [
       "<Figure size 1080x360 with 1 Axes>"
      ]
     },
     "metadata": {
      "needs_background": "light"
     },
     "output_type": "display_data"
    }
   ],
   "source": [
    "Time_oilprice=plt.scatter(County_list_Houston[\"Date\"], County_list_Houston[\"Housing Average Price\"] , color=\"blue\")\n",
    "plt.show()"
   ]
  },
  {
   "cell_type": "code",
   "execution_count": 55,
   "metadata": {},
   "outputs": [
    {
     "data": {
      "image/png": "[encoded data removed]",
      "text/plain": [
       "<Figure size 1080x360 with 1 Axes>"
      ]
     },
     "metadata": {
      "needs_background": "light"
     },
     "output_type": "display_data"
    }
   ],
   "source": [
    "Time_oilprice=plt.scatter(County_list_Houston[\"Date\"], County_list_Houston[\"Unemployment\"] , color=\"blue\")\n",
    "plt.show()"
   ]
  },
  {
   "cell_type": "code",
   "execution_count": 61,
   "metadata": {},
   "outputs": [
    {
     "data": {
      "image/png": "[encoded data removed]",
      "text/plain": [
       "<Figure size 1080x360 with 1 Axes>"
      ]
     },
     "metadata": {
      "needs_background": "light"
     },
     "output_type": "display_data"
    }
   ],
   "source": [
    "Oil_house= plt.scatter(County_list_Houston[\"Date\"], County_list_Houston[\"Unemployment\"], s=County_list_Houston[\"Housing Average Price\"] , color=\"blue\")\n",
    "plt.show()\n",
    "\n"
   ]
  },
  {
   "cell_type": "code",
   "execution_count": null,
   "metadata": {},
   "outputs": [],
   "source": []
  }
 ],
 "metadata": {
  "kernelspec": {
   "display_name": "Python 3",
   "language": "python",
   "name": "python3"
  },
  "language_info": {
   "codemirror_mode": {
    "name": "ipython",
    "version": 3
   },
   "file_extension": ".py",
   "mimetype": "text/x-python",
   "name": "python",
   "nbconvert_exporter": "python",
   "pygments_lexer": "ipython3",
   "version": "3.7.2"
  }
 },
 "nbformat": 4,
 "nbformat_minor": 2
}

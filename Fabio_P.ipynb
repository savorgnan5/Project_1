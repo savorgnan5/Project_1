{
 "cells": [
  {
   "cell_type": "code",
   "execution_count": null,
   "metadata": {},
   "outputs": [],
   "source": [
    "import pandas as pd\n",
    "import glob"
   ]
  },
  {
   "cell_type": "code",
   "execution_count": null,
   "metadata": {},
   "outputs": [],
   "source": [
    "# Get all of the names of our csvs (os)\n",
    "\n",
    "# Iterate through .csv files \n",
    "\n",
    "# read each csv into pandas df\n",
    "\n",
    "# add county column\n",
    "\n",
    "# either store df or concatenate to some output df\n"
   ]
  },
  {
   "cell_type": "code",
   "execution_count": null,
   "metadata": {},
   "outputs": [],
   "source": [
    "# W/ all data add oil price , unemployment cols"
   ]
  },
  {
   "cell_type": "code",
   "execution_count": null,
   "metadata": {},
   "outputs": [],
   "source": [
    "csv= glob.glob(\"*_County.csv\")\n",
    "csv"
   ]
  },
  {
   "cell_type": "code",
   "execution_count": null,
   "metadata": {},
   "outputs": [],
   "source": [
    "one=csv[0][:-11]\n",
    "one"
   ]
  },
  {
   "cell_type": "code",
   "execution_count": null,
   "metadata": {},
   "outputs": [],
   "source": [
    "read1= pd.read_csv(csv[0])\n",
    "read1[\"County\"]=csv[0][:-11]\n",
    "read2= pd.read_csv(csv[1])\n",
    "read2[\"County\"]=csv[1][:-11]\n",
    "read3= pd.concat([read1,read2])\n",
    "read3.head()"
   ]
  },
  {
   "cell_type": "code",
   "execution_count": null,
   "metadata": {},
   "outputs": [],
   "source": [
    "complete_df = read1\n",
    "for county in csv[0:]:\n",
    "    new_df= pd.read_csv(county)\n",
    "    new_df[\"County\"]=county[:-11]\n",
    "    \n",
    "    complete_df = pd.concat([complete_df, new_df])"
   ]
  },
  {
   "cell_type": "code",
   "execution_count": null,
   "metadata": {},
   "outputs": [],
   "source": [
    "complete_df.shape"
   ]
  },
  {
   "cell_type": "code",
   "execution_count": null,
   "metadata": {},
   "outputs": [],
   "source": [
    "len(complete_df.County.unique())"
   ]
  },
  {
   "cell_type": "code",
   "execution_count": null,
   "metadata": {},
   "outputs": [],
   "source": [
    "complete_df.head()"
   ]
  },
  {
   "cell_type": "code",
   "execution_count": null,
   "metadata": {},
   "outputs": [],
   "source": [
    "complete_df.reset_index(inplace=True, drop= True)\n",
    "complete_df.head()"
   ]
  },
  {
   "cell_type": "code",
   "execution_count": null,
   "metadata": {},
   "outputs": [],
   "source": [
    "complete_df.to_csv(\"Complete_house_pricing_data.csv\")"
   ]
  },
  {
   "cell_type": "code",
   "execution_count": null,
   "metadata": {},
   "outputs": [],
   "source": [
    "unemployment= pd.read_excel(\"TX-Unemployment data_BLS.xlsx\",skiprows=10)\n",
    "unemployment.head()"
   ]
  },
  {
   "cell_type": "code",
   "execution_count": null,
   "metadata": {},
   "outputs": [],
   "source": [
    "unemployment.loc[unemployment['Year']==2011,'Jan'].values[0]"
   ]
  },
  {
   "cell_type": "code",
   "execution_count": null,
   "metadata": {},
   "outputs": [],
   "source": [
    "un= unemployment.set_index(\"Year\")\n",
    "un"
   ]
  },
  {
   "cell_type": "code",
   "execution_count": null,
   "metadata": {},
   "outputs": [],
   "source": [
    "un.loc[2008,\"Dec\"]"
   ]
  },
  {
   "cell_type": "code",
   "execution_count": null,
   "metadata": {},
   "outputs": [],
   "source": []
  },
  {
   "cell_type": "code",
   "execution_count": null,
   "metadata": {},
   "outputs": [],
   "source": [
    "one = complete_df.loc[0,'Date']\n",
    "one"
   ]
  },
  {
   "cell_type": "code",
   "execution_count": null,
   "metadata": {},
   "outputs": [],
   "source": [
    "month, year = one.split(' ')\n",
    "year = int(year)\n",
    "print(month, year)"
   ]
  },
  {
   "cell_type": "code",
   "execution_count": null,
   "metadata": {},
   "outputs": [],
   "source": [
    "un.loc[year,month]\n",
    "un.loc[2011, 'Jan']"
   ]
  },
  {
   "cell_type": "code",
   "execution_count": null,
   "metadata": {},
   "outputs": [],
   "source": [
    "date = one\n",
    "month, year = date.split(' ')\n"
   ]
  },
  {
   "cell_type": "code",
   "execution_count": null,
   "metadata": {},
   "outputs": [],
   "source": [
    "def reference_cell(date):\n",
    "    # split date into month, year\n",
    "    month, year= date.split(\" \")\n",
    "    \n",
    "    #convert year to int\n",
    "    year= int(year)\n",
    "#     reference cell in position year, month\n",
    "    un_value= un.loc[year, month]\n",
    "    # Return output\n",
    "    return un_value "
   ]
  },
  {
   "cell_type": "code",
   "execution_count": null,
   "metadata": {},
   "outputs": [],
   "source": [
    "reference_cell(\"Jan 2011\")"
   ]
  },
  {
   "cell_type": "code",
   "execution_count": null,
   "metadata": {},
   "outputs": [],
   "source": [
    "complete_df[\"unemployment\"]=complete_df['Date'].apply(reference_cell)\n"
   ]
  },
  {
   "cell_type": "code",
   "execution_count": null,
   "metadata": {},
   "outputs": [],
   "source": [
    "complete_df.head()"
   ]
  },
  {
   "cell_type": "code",
   "execution_count": 51,
   "metadata": {},
   "outputs": [
    {
     "data": {
      "text/html": [
       "<div>\n",
       "<style scoped>\n",
       "    .dataframe tbody tr th:only-of-type {\n",
       "        vertical-align: middle;\n",
       "    }\n",
       "\n",
       "    .dataframe tbody tr th {\n",
       "        vertical-align: top;\n",
       "    }\n",
       "\n",
       "    .dataframe thead th {\n",
       "        text-align: right;\n",
       "    }\n",
       "</style>\n",
       "<table border=\"1\" class=\"dataframe\">\n",
       "  <thead>\n",
       "    <tr style=\"text-align: right;\">\n",
       "      <th></th>\n",
       "      <th>Date</th>\n",
       "      <th>Sales</th>\n",
       "      <th>Dollar Volume</th>\n",
       "      <th>Average Price</th>\n",
       "      <th>Median Price</th>\n",
       "      <th>Total Listings</th>\n",
       "      <th>Months Invntory</th>\n",
       "      <th>County</th>\n",
       "      <th>unemployment</th>\n",
       "    </tr>\n",
       "  </thead>\n",
       "  <tbody>\n",
       "    <tr>\n",
       "      <th>0</th>\n",
       "      <td>Jan 2011</td>\n",
       "      <td>70</td>\n",
       "      <td>11,926,588</td>\n",
       "      <td>170,380</td>\n",
       "      <td>168,052</td>\n",
       "      <td>NaN</td>\n",
       "      <td>NaN</td>\n",
       "      <td>Guadalupe</td>\n",
       "      <td>8.0</td>\n",
       "    </tr>\n",
       "    <tr>\n",
       "      <th>1</th>\n",
       "      <td>Feb 2011</td>\n",
       "      <td>88</td>\n",
       "      <td>13,808,445</td>\n",
       "      <td>156,914</td>\n",
       "      <td>150,000</td>\n",
       "      <td>NaN</td>\n",
       "      <td>NaN</td>\n",
       "      <td>Guadalupe</td>\n",
       "      <td>7.9</td>\n",
       "    </tr>\n",
       "    <tr>\n",
       "      <th>2</th>\n",
       "      <td>Mar 2011</td>\n",
       "      <td>131</td>\n",
       "      <td>20,943,149</td>\n",
       "      <td>159,871</td>\n",
       "      <td>157,000</td>\n",
       "      <td>NaN</td>\n",
       "      <td>NaN</td>\n",
       "      <td>Guadalupe</td>\n",
       "      <td>7.9</td>\n",
       "    </tr>\n",
       "    <tr>\n",
       "      <th>3</th>\n",
       "      <td>Apr 2011</td>\n",
       "      <td>133</td>\n",
       "      <td>21,632,252</td>\n",
       "      <td>162,649</td>\n",
       "      <td>156,990</td>\n",
       "      <td>NaN</td>\n",
       "      <td>NaN</td>\n",
       "      <td>Guadalupe</td>\n",
       "      <td>7.9</td>\n",
       "    </tr>\n",
       "    <tr>\n",
       "      <th>4</th>\n",
       "      <td>May 2011</td>\n",
       "      <td>159</td>\n",
       "      <td>26,333,193</td>\n",
       "      <td>165,618</td>\n",
       "      <td>156,000</td>\n",
       "      <td>NaN</td>\n",
       "      <td>NaN</td>\n",
       "      <td>Guadalupe</td>\n",
       "      <td>7.9</td>\n",
       "    </tr>\n",
       "  </tbody>\n",
       "</table>\n",
       "</div>"
      ],
      "text/plain": [
       "       Date Sales Dollar Volume Average Price Median Price Total Listings  \\\n",
       "0  Jan 2011    70    11,926,588       170,380      168,052            NaN   \n",
       "1  Feb 2011    88    13,808,445       156,914      150,000            NaN   \n",
       "2  Mar 2011   131    20,943,149       159,871      157,000            NaN   \n",
       "3  Apr 2011   133    21,632,252       162,649      156,990            NaN   \n",
       "4  May 2011   159    26,333,193       165,618      156,000            NaN   \n",
       "\n",
       "   Months Invntory     County  unemployment  \n",
       "0              NaN  Guadalupe           8.0  \n",
       "1              NaN  Guadalupe           7.9  \n",
       "2              NaN  Guadalupe           7.9  \n",
       "3              NaN  Guadalupe           7.9  \n",
       "4              NaN  Guadalupe           7.9  "
      ]
     },
     "execution_count": 51,
     "metadata": {},
     "output_type": "execute_result"
    }
   ],
   "source": [
    "complete_df['unemployment'] = complete_df['Date'].apply(lambda x: un.loc[int(x.split()[1]), x.split()[0]])\n",
    "complete_df.head()"
   ]
  },
  {
   "cell_type": "code",
   "execution_count": 52,
   "metadata": {},
   "outputs": [],
   "source": [
    "complete_df.to_csv(\"Complete_house_pricing_data.csv\")"
   ]
  },
  {
   "cell_type": "code",
   "execution_count": 54,
   "metadata": {},
   "outputs": [
    {
     "data": {
      "text/html": [
       "<div>\n",
       "<style scoped>\n",
       "    .dataframe tbody tr th:only-of-type {\n",
       "        vertical-align: middle;\n",
       "    }\n",
       "\n",
       "    .dataframe tbody tr th {\n",
       "        vertical-align: top;\n",
       "    }\n",
       "\n",
       "    .dataframe thead th {\n",
       "        text-align: right;\n",
       "    }\n",
       "</style>\n",
       "<table border=\"1\" class=\"dataframe\">\n",
       "  <thead>\n",
       "    <tr style=\"text-align: right;\">\n",
       "      <th></th>\n",
       "      <th>Date</th>\n",
       "      <th>Oil price</th>\n",
       "    </tr>\n",
       "  </thead>\n",
       "  <tbody>\n",
       "    <tr>\n",
       "      <th>0</th>\n",
       "      <td>1986-01-15</td>\n",
       "      <td>22.93</td>\n",
       "    </tr>\n",
       "    <tr>\n",
       "      <th>1</th>\n",
       "      <td>1986-02-15</td>\n",
       "      <td>15.46</td>\n",
       "    </tr>\n",
       "    <tr>\n",
       "      <th>2</th>\n",
       "      <td>1986-03-15</td>\n",
       "      <td>12.61</td>\n",
       "    </tr>\n",
       "    <tr>\n",
       "      <th>3</th>\n",
       "      <td>1986-04-15</td>\n",
       "      <td>12.84</td>\n",
       "    </tr>\n",
       "    <tr>\n",
       "      <th>4</th>\n",
       "      <td>1986-05-15</td>\n",
       "      <td>15.38</td>\n",
       "    </tr>\n",
       "  </tbody>\n",
       "</table>\n",
       "</div>"
      ],
      "text/plain": [
       "        Date  Oil price\n",
       "0 1986-01-15      22.93\n",
       "1 1986-02-15      15.46\n",
       "2 1986-03-15      12.61\n",
       "3 1986-04-15      12.84\n",
       "4 1986-05-15      15.38"
      ]
     },
     "execution_count": 54,
     "metadata": {},
     "output_type": "execute_result"
    }
   ],
   "source": [
    "oil_price =pd.read_excel(\"PET_PRI_SPT_S1_M.xls\",sheet_name=\"Data 1\")\n",
    "oil_price= oil_price[[\"Date\",\"Oil price\"]]\n",
    "oil_price.head()"
   ]
  },
  {
   "cell_type": "code",
   "execution_count": null,
   "metadata": {},
   "outputs": [],
   "source": []
  },
  {
   "cell_type": "code",
   "execution_count": null,
   "metadata": {},
   "outputs": [],
   "source": []
  },
  {
   "cell_type": "code",
   "execution_count": null,
   "metadata": {},
   "outputs": [],
   "source": []
  }
 ],
 "metadata": {
  "kernelspec": {
   "display_name": "Python 3",
   "language": "python",
   "name": "python3"
  },
  "language_info": {
   "codemirror_mode": {
    "name": "ipython",
    "version": 3
   },
   "file_extension": ".py",
   "mimetype": "text/x-python",
   "name": "python",
   "nbconvert_exporter": "python",
   "pygments_lexer": "ipython3",
   "version": "3.7.2"
  }
 },
 "nbformat": 4,
 "nbformat_minor": 2
}
